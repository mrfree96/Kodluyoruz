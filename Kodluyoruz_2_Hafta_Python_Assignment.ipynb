{
  "nbformat": 4,
  "nbformat_minor": 0,
  "metadata": {
    "colab": {
      "provenance": [],
      "authorship_tag": "ABX9TyOBmxJ3e1K/fUXULPhlGjTi",
      "include_colab_link": true
    },
    "kernelspec": {
      "name": "python3",
      "display_name": "Python 3"
    },
    "language_info": {
      "name": "python"
    }
  },
  "cells": [
    {
      "cell_type": "markdown",
      "metadata": {
        "id": "view-in-github",
        "colab_type": "text"
      },
      "source": [
        "<a href=\"https://colab.research.google.com/github/mrfree96/Kodluyoruz/blob/main/Kodluyoruz_2_Hafta_Python_Assignment.ipynb\" target=\"_parent\"><img src=\"https://colab.research.google.com/assets/colab-badge.svg\" alt=\"Open In Colab\"/></a>"
      ]
    },
    {
      "cell_type": "code",
      "execution_count": 29,
      "metadata": {
        "colab": {
          "base_uri": "https://localhost:8080/"
        },
        "id": "6kk38vk2gilW",
        "outputId": "49458e34-4eda-4634-be0a-69a2b051ebca"
      },
      "outputs": [
        {
          "output_type": "stream",
          "name": "stdout",
          "text": [
            "[(1, 1), (4, 5), (3, 8), (3, 4)]\n"
          ]
        }
      ],
      "source": [
        "points = [(1, 1), (4, 5), (3, 8), (3, 4)]\n",
        "print(points)"
      ]
    },
    {
      "cell_type": "code",
      "source": [
        "def euclideanDistance(points):\n",
        "  \"\"\"\n",
        "  This function calculates the Euclidean Distance\n",
        "  between all unique pairs of given points.\n",
        "  \"\"\"\n",
        "  distances = []\n",
        "  for i in range(len(points) - 1):\n",
        "    for j in range(i + 1, len(points)):\n",
        "      distance = ((points[i][0] - points[j][0]) ** 2 +  (points[i][1] - points[j][1]) ** 2 ) ** 0.5\n",
        "      distances.append(distance)\n",
        "  return distances"
      ],
      "metadata": {
        "id": "_jyaOpYCgzmI"
      },
      "execution_count": 30,
      "outputs": []
    },
    {
      "cell_type": "code",
      "source": [
        "distances = euclideanDistance(points)\n",
        "minimum_distance = min(euclideanDistance(points))\n",
        "print(f\"Distances: {distances} \\nMinimum Distance: {minimum_distance}\")"
      ],
      "metadata": {
        "colab": {
          "base_uri": "https://localhost:8080/"
        },
        "id": "Q-oOzczch3nh",
        "outputId": "f96270c5-ac3e-4e42-b139-39d6d1ad431d"
      },
      "execution_count": 34,
      "outputs": [
        {
          "output_type": "stream",
          "name": "stdout",
          "text": [
            "Distances: [5.0, 7.280109889280518, 3.605551275463989, 3.1622776601683795, 1.4142135623730951, 4.0] \n",
            "Minimum Distance: 1.4142135623730951\n"
          ]
        }
      ]
    },
    {
      "cell_type": "code",
      "source": [],
      "metadata": {
        "id": "Sr9sKggHh67Q"
      },
      "execution_count": null,
      "outputs": []
    }
  ]
}